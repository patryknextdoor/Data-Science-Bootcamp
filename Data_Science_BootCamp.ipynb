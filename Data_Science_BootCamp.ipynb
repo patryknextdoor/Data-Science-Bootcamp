{
  "nbformat": 4,
  "nbformat_minor": 0,
  "metadata": {
    "colab": {
      "name": "Data Science BootCamp",
      "provenance": [],
      "authorship_tag": "ABX9TyMP7Tcd2wngLUxylL1sSsEC",
      "include_colab_link": true
    },
    "kernelspec": {
      "name": "python3",
      "display_name": "Python 3"
    },
    "language_info": {
      "name": "python"
    }
  },
  "cells": [
    {
      "cell_type": "markdown",
      "metadata": {
        "id": "view-in-github",
        "colab_type": "text"
      },
      "source": [
        "<a href=\"https://colab.research.google.com/github/patryknextdoor/Data-Science-Bootcamp/blob/main/Data_Science_BootCamp.ipynb\" target=\"_parent\"><img src=\"https://colab.research.google.com/assets/colab-badge.svg\" alt=\"Open In Colab\"/></a>"
      ]
    },
    {
      "cell_type": "markdown",
      "source": [
        "# **STATISTICS  PROBABILITY AND LINEAR ALGEBRA**"
      ],
      "metadata": {
        "id": "uyalK0UI0Yrw"
      }
    },
    {
      "cell_type": "markdown",
      "source": [
        "# **Vectors - tablica liczb**\n",
        "\n",
        "Wektor to tablica liczb, których\n",
        "identyfikacja jest możliwa za pomocą\n",
        "indeksu określającego położenie.\n",
        "Wektory identyfikują punkty w\n",
        "przestrzeni. Załóżmy, że mamy wektor\n",
        "x. Pierwszym elementem tego wektora\n",
        "jest x1, drugim x2, a ostatnim xn, co\n",
        "przedstawiono na poniższym rysunku:"
      ],
      "metadata": {
        "id": "UInMbWRB0h70"
      }
    },
    {
      "cell_type": "markdown",
      "source": [
        ""
      ],
      "metadata": {
        "id": "D2MSkv0M0Ykp"
      }
    },
    {
      "cell_type": "code",
      "source": [
        "import numpy as np"
      ],
      "metadata": {
        "id": "1klpOCCFzvUE"
      },
      "execution_count": 3,
      "outputs": []
    },
    {
      "cell_type": "code",
      "source": [
        "A = np.array([3,6,8,1]) # wektor jako wiersz 7 row\n",
        "A"
      ],
      "metadata": {
        "colab": {
          "base_uri": "https://localhost:8080/"
        },
        "id": "QSLowkw5z3oP",
        "outputId": "00c27bd0-e34c-494b-b78e-01dd454aaf13"
      },
      "execution_count": 4,
      "outputs": [
        {
          "output_type": "execute_result",
          "data": {
            "text/plain": [
              "array([3, 6, 8, 1])"
            ]
          },
          "metadata": {},
          "execution_count": 4
        }
      ]
    },
    {
      "cell_type": "code",
      "source": [
        "A1 = np.array([[3],[6],[8],[1]]) # wektor jako kolumna / column\n",
        "A1"
      ],
      "metadata": {
        "colab": {
          "base_uri": "https://localhost:8080/"
        },
        "id": "CtvEYaJa0A6l",
        "outputId": "9affa42b-1915-4408-f4f6-aa2bc36164ad"
      },
      "execution_count": 8,
      "outputs": [
        {
          "output_type": "execute_result",
          "data": {
            "text/plain": [
              "array([[3],\n",
              "       [6],\n",
              "       [8],\n",
              "       [1]])"
            ]
          },
          "metadata": {},
          "execution_count": 8
        }
      ]
    },
    {
      "cell_type": "code",
      "source": [
        ""
      ],
      "metadata": {
        "id": "wY-e-NiK1KI_"
      },
      "execution_count": null,
      "outputs": []
    },
    {
      "cell_type": "markdown",
      "source": [
        "# **Macierze - Matrix - dwuwymiarowa tablica liczb**\n"
      ],
      "metadata": {
        "id": "0JeJ4le_1Ozx"
      }
    },
    {
      "cell_type": "code",
      "source": [
        "B = np.array([[3,7,4] , [9,3,5]])\n",
        "B"
      ],
      "metadata": {
        "colab": {
          "base_uri": "https://localhost:8080/"
        },
        "id": "70YlC5rT1QSY",
        "outputId": "48a96e34-e7f9-4744-aa61-bc2a1b7d7262"
      },
      "execution_count": 9,
      "outputs": [
        {
          "output_type": "execute_result",
          "data": {
            "text/plain": [
              "array([[3, 7, 4],\n",
              "       [9, 3, 5]])"
            ]
          },
          "metadata": {},
          "execution_count": 9
        }
      ]
    },
    {
      "cell_type": "code",
      "source": [
        "C = np.arange(3,11)\n",
        "C"
      ],
      "metadata": {
        "colab": {
          "base_uri": "https://localhost:8080/"
        },
        "id": "LI_QPgiR1bkV",
        "outputId": "2bbebc52-2307-4b9f-dc7e-2da914f2aab7"
      },
      "execution_count": 13,
      "outputs": [
        {
          "output_type": "execute_result",
          "data": {
            "text/plain": [
              "array([ 3,  4,  5,  6,  7,  8,  9, 10])"
            ]
          },
          "metadata": {},
          "execution_count": 13
        }
      ]
    },
    {
      "cell_type": "code",
      "source": [
        ""
      ],
      "metadata": {
        "id": "xg4iajC61e9Q"
      },
      "execution_count": null,
      "outputs": []
    }
  ]
}